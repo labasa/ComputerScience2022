{
  "nbformat": 4,
  "nbformat_minor": 0,
  "metadata": {
    "colab": {
      "provenance": []
    },
    "kernelspec": {
      "name": "python3",
      "display_name": "Python 3"
    },
    "language_info": {
      "name": "python"
    }
  },
  "cells": [
    {
      "cell_type": "markdown",
      "source": [
        "## 1.\n",
        "```\n",
        "What can Python do?\n",
        "\n",
        "(A)Python can be used on a server to create web applications.\n",
        "\n",
        "(B)Python can be used alongside software to create workflows.\n",
        "\n",
        "(C)Python can connect to database systems. It can also read and modify files.\n",
        "\n",
        "(D)Python can be used to handle big data and perform complex mathematics.\n",
        "\n",
        "-answer: https://www.w3schools.com/python/python_intro.asp\n",
        "\n",
        "Python can be used on a server to create web applications.\n",
        "\n",
        "Python can be used alongside software to create workflows.\n",
        "\n",
        "Python can connect to database systems. It can also read and modify files.\n",
        "\n",
        "Python can be used to handle big data and perform complex mathematics.\n",
        "\n",
        "Python can be used for rapid prototyping, or for production-ready software development.\n",
        "```"
      ],
      "metadata": {
        "id": "BzqinKCpm5KZ"
      }
    },
    {
      "cell_type": "markdown",
      "source": [
        "## 2.\n",
        "``` \n",
        "Python uses ________ to indicate a block of code\n",
        "\n",
        "(A) [] (B) {} (C) () (D) indentation\n",
        "\n",
        "answer https://www.w3schools.com/python/python_syntax.asp\n",
        "\n",
        "Python uses indentation to indicate a block of code.\n",
        "\n"
      ],
      "metadata": {
        "id": "PD5s0u82nPFI"
      }
    },
    {
      "cell_type": "markdown",
      "source": [
        "## 3.\n",
        "```\n",
        "Python has commenting capability for the purpose of in-code documentation. Comments start with a ________\n",
        "\n",
        "(A) A (B) # (C) / (D)&\n",
        "\n",
        "-answer (B) #\n",
        "```"
      ],
      "metadata": {
        "id": "63jLYT18ntf3"
      }
    },
    {
      "cell_type": "code",
      "source": [
        "fruits = [\"apple\", \"banana\", \"cherry\"]\n",
        "x, y, z = fruits\n",
        "print(x)"
      ],
      "metadata": {
        "colab": {
          "base_uri": "https://localhost:8080/"
        },
        "id": "D_Ua6AyYqzBl",
        "outputId": "446b37e9-dd9f-4e43-9fb8-cc77df576f02"
      },
      "execution_count": 1,
      "outputs": [
        {
          "output_type": "stream",
          "name": "stdout",
          "text": [
            "apple\n"
          ]
        }
      ]
    },
    {
      "cell_type": "markdown",
      "source": [
        "## 5.\n",
        "```\n",
        "Which following is the correct way to create a dictionary in Python? (A) students = { 'name' => 'alice' ; 'score' =>60 } (B) students = { 'name' = 'alice' ; 'score' =60 } (C) students = { 'name' : 'alice' ; 'score' : 60 } (D) students = { 'name' => 'alice' , 'score' =>60 } (E) students = { 'name' : 'alice' , 'score' : 60 }\n",
        "Answer: - E- { 'name' : 'alice' , 'score' : 60 }\n",
        "\n",
        "students = { 'name' => 'alice' ; 'score' =>60 } File \"\", line 1 students = { 'name' => 'alice' ; 'score' =>60 } ^ SyntaxError: invalid syntax\n",
        "\n",
        "students = { 'name' = 'alice' ; 'score' =60 } File \"\", line 1 ) students = { 'name' = 'alice' ; 'score' =60 } ^ SyntaxError: invalid syntax\n",
        "\n",
        "students = { 'name' = 'alice' ; 'score' =60 } File \"\", line 1 ) students = { 'name' = 'alice' ; 'score' =60 } ^ SyntaxError: invalid syntax\n",
        "\n",
        "students = { 'name' => 'alice' , 'score' =>60 } File \"\", line 1 students = { 'name' => 'alice' , 'score' =>60 } ^ SyntaxError: invalid syntax\n",
        "\n",
        "students = { 'name' : 'alice' , 'score' : 60 }\n",
        "```\n"
      ],
      "metadata": {
        "id": "-fljj-hpq_CX"
      }
    },
    {
      "cell_type": "code",
      "source": [
        "x = 5\n",
        "y = \"John\" \n",
        "print(x + y)"
      ],
      "metadata": {
        "colab": {
          "base_uri": "https://localhost:8080/",
          "height": 200
        },
        "id": "SC5JnuE5rTXR",
        "outputId": "2559b8ae-d693-46ec-d9dc-be56ceca85b2"
      },
      "execution_count": 2,
      "outputs": [
        {
          "output_type": "error",
          "ename": "TypeError",
          "evalue": "ignored",
          "traceback": [
            "\u001b[0;31m---------------------------------------------------------------------------\u001b[0m",
            "\u001b[0;31mTypeError\u001b[0m                                 Traceback (most recent call last)",
            "\u001b[0;32m<ipython-input-2-d43635ebe664>\u001b[0m in \u001b[0;36m<module>\u001b[0;34m\u001b[0m\n\u001b[1;32m      1\u001b[0m \u001b[0mx\u001b[0m \u001b[0;34m=\u001b[0m \u001b[0;36m5\u001b[0m\u001b[0;34m\u001b[0m\u001b[0;34m\u001b[0m\u001b[0m\n\u001b[1;32m      2\u001b[0m \u001b[0my\u001b[0m \u001b[0;34m=\u001b[0m \u001b[0;34m\"John\"\u001b[0m\u001b[0;34m\u001b[0m\u001b[0;34m\u001b[0m\u001b[0m\n\u001b[0;32m----> 3\u001b[0;31m \u001b[0mprint\u001b[0m\u001b[0;34m(\u001b[0m\u001b[0mx\u001b[0m \u001b[0;34m+\u001b[0m \u001b[0my\u001b[0m\u001b[0;34m)\u001b[0m\u001b[0;34m\u001b[0m\u001b[0;34m\u001b[0m\u001b[0m\n\u001b[0m",
            "\u001b[0;31mTypeError\u001b[0m: unsupported operand type(s) for +: 'int' and 'str'"
          ]
        }
      ]
    },
    {
      "cell_type": "markdown",
      "source": [
        "## 7.\n",
        "```\n",
        "Which one of the following outputs is wrong? \n",
        "\n",
        "(A)13//5 output: 2.6 (B) 13/5 output: 2.6 (C)13%5 output:3\n",
        "(D)y = int(2.8) output:2\n",
        "\n",
        "Answer: B-13/5 output: 2.6\n",
        "```"
      ],
      "metadata": {
        "id": "TTVhqORUrevI"
      }
    },
    {
      "cell_type": "markdown",
      "source": [
        "## 8.\n",
        "```\n",
        "What does the following Python program fragment do? \n",
        "s=0 \n",
        "for i in range (3 , 11) : \n",
        "s+=i \n",
        "print (s) \n",
        "(A) Calculate the sum of 1+2+…+10 \n",
        "(B) Calculate the sum of 1+4+7+10 \n",
        "(C) Calculate the sum of 3+4+5+6+…+9 \n",
        "(D) Calculate the sum of 3+4+5+6+…+10 \n",
        "(E) Calculate the sum of 0+2+4+6+…+10\n",
        "\n",
        "Answer: D- Calculate the sum of 3+4+5+6+…+10\n",
        "```"
      ],
      "metadata": {
        "id": "r125tekUrl5B"
      }
    },
    {
      "cell_type": "code",
      "source": [
        "x = range(3,11)\n",
        "\n",
        "for n in x:\n",
        "  print(n)"
      ],
      "metadata": {
        "colab": {
          "base_uri": "https://localhost:8080/"
        },
        "id": "4nGQE-gnsEMf",
        "outputId": "dd8d32fe-7429-4a7c-8244-97682360ff03"
      },
      "execution_count": 3,
      "outputs": [
        {
          "output_type": "stream",
          "name": "stdout",
          "text": [
            "3\n",
            "4\n",
            "5\n",
            "6\n",
            "7\n",
            "8\n",
            "9\n",
            "10\n"
          ]
        }
      ]
    },
    {
      "cell_type": "markdown",
      "source": [
        "##9.\n",
        "```\n",
        "\n",
        "What is the output of this code in Python?\n",
        "\n",
        "a = \"Hello, World!\" print(a[2:5]+ a[3:8])\n",
        "\n",
        "(A) W llolo, \n",
        "(B) llolo,Wo \n",
        "(C) llolo, W \n",
        "(D) llolo,Wor\n",
        "\n",
        "Answer: B- llolo,Wo\n",
        "```"
      ],
      "metadata": {
        "id": "UpmBsu_dsHFp"
      }
    },
    {
      "cell_type": "code",
      "source": [
        "a = \"Hello, World!\"\n",
        "print(a[2:5]+ a[3:8])"
      ],
      "metadata": {
        "colab": {
          "base_uri": "https://localhost:8080/"
        },
        "id": "Z01UlP_psOuK",
        "outputId": "d9ac54ab-6309-4973-f2f1-039c68e7be7e"
      },
      "execution_count": 4,
      "outputs": [
        {
          "output_type": "stream",
          "name": "stdout",
          "text": [
            "llolo, W\n"
          ]
        }
      ]
    },
    {
      "cell_type": "markdown",
      "source": [
        "##10.\n",
        "```\n",
        "Which function can returns the length of a string?\n",
        "a = \"Hello, Pythonian!\" \n",
        "\n",
        "print(_________) \n",
        "(A) len(a) \n",
        "(B) length(a) \n",
        "(C) count(a) \n",
        "(D) num(a)\n",
        "\n",
        "Answer: B-length(a)\n",
        "```"
      ],
      "metadata": {
        "id": "I0Q6qOfusS98"
      }
    },
    {
      "cell_type": "markdown",
      "source": [
        "##11.\n",
        "```\n",
        "What is the output of this code in Python? \n",
        "\n",
        "list = [ ' a ' , ' b ' , ' c ' , ' d ' , ' e ' ] \n",
        "\n",
        "print (list [ 1 : ])\n",
        "\n",
        "(A) [ ] \n",
        "(B) [ 'b' ] \n",
        "(C) [ 'a' , 'b' ] \n",
        "(D) [ 'b' , 'c' , 'd' , 'e' ]\n",
        "\n",
        "Answer: D-[' b ', ' c ', ' d ', ' e ']\n",
        "```"
      ],
      "metadata": {
        "id": "ExqYeY2fsaW9"
      }
    },
    {
      "cell_type": "markdown",
      "source": [
        "##12.\n",
        "```\n",
        "What is the output of this code in Python? \n",
        "\n",
        "L1 = [ ] \n",
        "\n",
        "L1.append ( [1, [2, 3], 4] ) \n",
        "L1.extend ( [7, 8, 9] ) \n",
        "print(L1[0][1][1] + L1[2] ) \n",
        "(A) 3 \n",
        "(B) 8 \n",
        "(C) 11 \n",
        "(D) 38 \n",
        "(E) None of these\n",
        "\n",
        "Answer: B-11\n",
        "```"
      ],
      "metadata": {
        "id": "2edC6BK5shNJ"
      }
    },
    {
      "cell_type": "code",
      "source": [
        "L1 = [ ]\n",
        "L1.append ( [1, [2, 3], 4] )\n",
        "L1.extend ( [7, 8, 9] )\n",
        "print(L1[0][1][1] + L1[2] )"
      ],
      "metadata": {
        "colab": {
          "base_uri": "https://localhost:8080/"
        },
        "id": "tetbUDwIsmrC",
        "outputId": "d9d1ce6a-150d-442e-fe6a-51250b8581d1"
      },
      "execution_count": 6,
      "outputs": [
        {
          "output_type": "stream",
          "name": "stdout",
          "text": [
            "11\n"
          ]
        }
      ]
    },
    {
      "cell_type": "markdown",
      "source": [
        "##13.\n",
        "```\n",
        "Check if \"free\" is present in the following text:\n",
        "\n",
        "txt = \"The best things in life are free!\"\n",
        "print(\"free\" ______ txt)\n",
        "\n",
        "Which is the correct answer?\n",
        "(A) on (B) with (C) at  (D) in\n",
        "```"
      ],
      "metadata": {
        "id": "1dnYgSL1s1Nx"
      }
    },
    {
      "cell_type": "code",
      "source": [
        "txt = \"The best things in life are free!\"\n",
        "print(\"free\" in txt)"
      ],
      "metadata": {
        "colab": {
          "base_uri": "https://localhost:8080/"
        },
        "id": "_f6gfndls4ry",
        "outputId": "8960c8f0-05ce-4448-99d8-3bd2e1eea361"
      },
      "execution_count": 7,
      "outputs": [
        {
          "output_type": "stream",
          "name": "stdout",
          "text": [
            "True\n"
          ]
        }
      ]
    },
    {
      "cell_type": "markdown",
      "source": [
        "##14.\n",
        "```\n",
        "Which of the following conditions correctly describes the output of this code in Python? first = [1 , 2 , 3 , 4 , 5] second = first second.append (6) print (first) print (second) (A) first=[1, 2, 3, 4, 5], second=[1, 2, 3, 4, 5, 6] (B) first=[1, 2, 3, 4, 5, 6], second=[1, 2, 3, 4, 5] (C) first=[1, 2, 3, 4, 5], second=[1, 2, 3, 4, 5] (D) first=[1, 2, 3, 4, 5, 6], second=[1, 2, 3, 4, 5, 6] (E) None of these\n",
        "Answer: D-[1, 2, 3, 4, 5, 6] [1, 2, 3, 4, 5, 6]\n",
        "```"
      ],
      "metadata": {
        "id": "AFwMydjYs8Lo"
      }
    },
    {
      "cell_type": "code",
      "source": [
        "first = [1 , 2 , 3 , 4 , 5]\n",
        "second = first\n",
        "second.append (6)\n",
        "print (first)\n",
        "print (second)"
      ],
      "metadata": {
        "colab": {
          "base_uri": "https://localhost:8080/"
        },
        "id": "7VvUKkM2tCP3",
        "outputId": "893b9279-f803-4231-f29f-b8f1223aeb45"
      },
      "execution_count": 8,
      "outputs": [
        {
          "output_type": "stream",
          "name": "stdout",
          "text": [
            "[1, 2, 3, 4, 5, 6]\n",
            "[1, 2, 3, 4, 5, 6]\n"
          ]
        }
      ]
    },
    {
      "cell_type": "markdown",
      "source": [
        "##15.\n",
        "```\n",
        "Python has a set of built-in methods that you can use on strings. Which method can converts string into lower case ? (A)capitalize() (B) casefold() (C) lower()\n",
        "(D)expandtabs()\n",
        "Answer: C- lower () https://www.google.com/search?q=Python+has+a+set+of+built-in+methods+that+you+can+use+on+strings.+Which+method+can+converts+string+into+lower+case+%3F&rlz=1C1ONGR_enPH1023PH1023&oq=Python+has+a+set+of+built-in+methods+that+you+can+use+on+strings.+Which+method+can+converts+string+into+lower+case+%3F&aqs=chrome..69i57.263j0j9&sourceid=chrome&ie=UTF-8\n",
        "```"
      ],
      "metadata": {
        "id": "Tae9tLPQtFmp"
      }
    },
    {
      "cell_type": "markdown",
      "source": [
        "##16.\n",
        "```\n",
        "Python Booleans Which one of the following statements is wrong? (A) Booleans represent one of two values: True or False. (B) The bool() function allows you to evaluate any value, and give you True or False in return, (C) print(10 > 9) will output True\n",
        "(D) print(10 = 9) will output True\n",
        "Answer: D-print(10 = 9) will output True\n",
        "```"
      ],
      "metadata": {
        "id": "YD3louoLtKTo"
      }
    },
    {
      "cell_type": "code",
      "source": [
        "print(10 = 9)"
      ],
      "metadata": {
        "colab": {
          "base_uri": "https://localhost:8080/",
          "height": 130
        },
        "id": "8AlSWilStPHS",
        "outputId": "01bbd6d1-f61f-42d8-8275-fbcb73d2943d"
      },
      "execution_count": 9,
      "outputs": [
        {
          "output_type": "error",
          "ename": "SyntaxError",
          "evalue": "ignored",
          "traceback": [
            "\u001b[0;36m  File \u001b[0;32m\"<ipython-input-9-bfffe3a677b9>\"\u001b[0;36m, line \u001b[0;32m1\u001b[0m\n\u001b[0;31m    print(10 = 9)\u001b[0m\n\u001b[0m         ^\u001b[0m\n\u001b[0;31mSyntaxError\u001b[0m\u001b[0;31m:\u001b[0m keyword can't be an expression\n"
          ]
        }
      ]
    },
    {
      "cell_type": "markdown",
      "source": [
        "##17.\n",
        "```\n",
        "Python Lists Which of the following statements is wrong?\n",
        "\n",
        "(A) Lists are used to store multiple items in a single variable. (B) Lists are created using square brackets (C) List items are ordered, changeable, and allow duplicate values. (D) Lists can not have items with the same value\n",
        "Answer:D- Lists can not have items with the same value\n",
        "```"
      ],
      "metadata": {
        "id": "ZNC-qWIgtTUo"
      }
    },
    {
      "cell_type": "markdown",
      "source": [
        "##18.\n",
        "```\n",
        "Which one of the codes will output ['apple', 'orange', 'banana', 'cherry'] ?\n",
        "\n",
        "mylist = [\"apple\", \"banana\", \"cherry\"] _____________________ print(mylist)\n",
        "\n",
        "(A)mylist.append(\"orange\") (B)mylist.insert(0, \"orange\") (C)mylist.insert(1, \"orange\")\n",
        "(D)mylist.insert(2, \"orange\")\n",
        "Answer: D-mylist.insert(2, \"orange\")\n",
        "```"
      ],
      "metadata": {
        "id": "rHhZLiyatYpo"
      }
    },
    {
      "cell_type": "code",
      "source": [
        "mylist = [\"apple\", \"banana\", \"cherry\"]\n",
        "mylist.insert(2, \"orange\")\n",
        "print(mylist)"
      ],
      "metadata": {
        "colab": {
          "base_uri": "https://localhost:8080/"
        },
        "id": "aI3Kc5aqtc-Z",
        "outputId": "c7dab8c9-0a20-427d-ac03-4eae71095386"
      },
      "execution_count": 10,
      "outputs": [
        {
          "output_type": "stream",
          "name": "stdout",
          "text": [
            "['apple', 'banana', 'orange', 'cherry']\n"
          ]
        }
      ]
    },
    {
      "cell_type": "markdown",
      "source": [
        "##19.\n",
        "```\n",
        "Python has a set of built-in methods that you can use on dictionaries. Which statements are correct ? (A) clear() will removes all the elements from the dictionary (B) copy() will returns a copy of the dictionary (C) items() will returns a list containing a tuple for each key value pair\n",
        "(D) popitem() will removes the last inserted key-value pair\n",
        "Answer: C-items() will returns a list containing a tuple for each key value pair\n",
        "```"
      ],
      "metadata": {
        "id": "3GdMW3Hxtluw"
      }
    },
    {
      "cell_type": "markdown",
      "source": [
        "##20.\n",
        "```\n",
        "Python supports the usual logical conditions from mathematics: Which statements are correct ? (A)Equals: a = b (B)Not Equals: a != b (C)Less than or equal to: a <= b (D)Greater than: a > b\n",
        "Answer: B-Not Equals: a != b\n",
        "```"
      ],
      "metadata": {
        "id": "NSEgxAi2toY4"
      }
    },
    {
      "cell_type": "markdown",
      "source": [
        "##21.\n",
        "```\n",
        "What is the output of this code in Python?\n",
        "\n",
        "i = 1 while i < 6: print(i) if (i == 3): break i += 1 (A) (B) (C) (D) 1 1 1 4 2 2 2 5 3 4 3 6 5 4 6 5 6\n",
        "Answer: A\n",
        "```"
      ],
      "metadata": {
        "id": "AHCqoRYRtsAY"
      }
    },
    {
      "cell_type": "code",
      "source": [
        "i = 1\n",
        "while i < 6:\n",
        "  print(i)\n",
        "  if (i == 3):\n",
        "    break\n",
        "  i += 1"
      ],
      "metadata": {
        "colab": {
          "base_uri": "https://localhost:8080/"
        },
        "id": "6eOSxHFytvKg",
        "outputId": "1e6ce007-f09e-4749-a694-e5bb223a9e3b"
      },
      "execution_count": 11,
      "outputs": [
        {
          "output_type": "stream",
          "name": "stdout",
          "text": [
            "1\n",
            "2\n",
            "3\n"
          ]
        }
      ]
    },
    {
      "cell_type": "markdown",
      "source": [
        "##22.\n",
        "```\n",
        "What is the output of this code in Python? i = 0 while i < 6: i += 1 if i == 3: continue print(i)\n",
        "\n",
        "(A) (B) (C) (D) 1 1 1 4 2 2 2 5 3 4 3 6 5 4 6 5 6\n",
        "Answer: B\n",
        "```"
      ],
      "metadata": {
        "id": "FzWKf5OvtzAI"
      }
    },
    {
      "cell_type": "code",
      "source": [
        "i = 0\n",
        "while i < 6:\n",
        "  i += 1\n",
        "  if i == 3:\n",
        "    continue\n",
        "  print(i)"
      ],
      "metadata": {
        "colab": {
          "base_uri": "https://localhost:8080/"
        },
        "id": "hSrofhVat1NI",
        "outputId": "0c6ebfb3-711c-4552-d4cd-bef506948dbb"
      },
      "execution_count": 12,
      "outputs": [
        {
          "output_type": "stream",
          "name": "stdout",
          "text": [
            "1\n",
            "2\n",
            "4\n",
            "5\n",
            "6\n"
          ]
        }
      ]
    },
    {
      "cell_type": "markdown",
      "source": [
        "##23.\n",
        "```\n",
        "If the function int volume (int x = 1, int y = 1, int z = 1); is called by the expression volume (7,8), how many default arguments are used? (A) None (B) One (C) Two (D) Three (E) It depends on the runtime environment.\n",
        "Answer: C-Two\n",
        "```"
      ],
      "metadata": {
        "id": "EFF7JVqct5Sx"
      }
    },
    {
      "cell_type": "markdown",
      "source": [
        "##24.\n",
        "```\n",
        "What is the output of this code in python? r = lambda q: q * 2 s = lambda q: q * 3 x = 2 x = r (x) x = s (x) x = r (x) print (x) (A) 2 (B) 4 (C) 6 (D) 12 (E) 24\n",
        "Answer: E\n",
        "```"
      ],
      "metadata": {
        "id": "Y8N6qGaZt_mT"
      }
    },
    {
      "cell_type": "code",
      "source": [
        "r = lambda q: q * 2\n",
        "s = lambda q: q * 3\n",
        "x = 2\n",
        "x = r (x)\n",
        "x = s (x)\n",
        "x = r (x)\n",
        "print (x)"
      ],
      "metadata": {
        "colab": {
          "base_uri": "https://localhost:8080/"
        },
        "id": "s19AksyEuCox",
        "outputId": "bc3231a8-fa6b-4ea0-c68f-d47587230357"
      },
      "execution_count": 14,
      "outputs": [
        {
          "output_type": "stream",
          "name": "stdout",
          "text": [
            "24\n"
          ]
        }
      ]
    },
    {
      "cell_type": "markdown",
      "source": [
        "##25.\n",
        "```\n",
        ".A recursive function is defined as below: def tri_recursion(k): if(k > 0): result = k + tri_recursion(k - 1) print(result) What Is The Last Line Of The Output When tri_recursion(6) is executed?\n",
        "\n",
        "(A) 6 (B) 10 (C) 15 (D) 21 (E) 28\n",
        "Answer: D-21\n",
        "```"
      ],
      "metadata": {
        "id": "r3DDy6MiuQNJ"
      }
    },
    {
      "cell_type": "code",
      "source": [
        "def tri_recursion(k):\n",
        "  if(k > 0):\n",
        "    result = k + tri_recursion(k - 1)\n",
        "    print(result)\n",
        "  else:\n",
        "    result = 0\n",
        "  return result"
      ],
      "metadata": {
        "id": "Wcl9PnO2uSpl"
      },
      "execution_count": 15,
      "outputs": []
    }
  ]
}